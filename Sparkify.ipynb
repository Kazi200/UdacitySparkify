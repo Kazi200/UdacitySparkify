{
 "cells": [
  {
   "cell_type": "markdown",
   "metadata": {},
   "source": [
    "# Sparkify Project Workspace\n",
    "This workspace contains a tiny subset (128MB) of the full dataset available (12GB). Feel free to use this workspace to build your project, or to explore a smaller subset with Spark before deploying your cluster on the cloud. Instructions for setting up your Spark cluster is included in the last lesson of the Extracurricular Spark Course content.\n",
    "\n",
    "You can follow the steps below to guide your data analysis and model building portion of this project."
   ]
  },
  {
   "cell_type": "code",
   "execution_count": 23,
   "metadata": {},
   "outputs": [],
   "source": [
    "# import libraries\n",
    "from pyspark.sql import SparkSession\n",
    "from pyspark.sql.functions import isnan, count, when, col, desc, udf, col, sort_array, asc, avg, countDistinct\n",
    "from pyspark.sql.functions import sum as Fsum\n",
    "from pyspark.sql.window import Window\n",
    "from pyspark.sql.types import IntegerType, DateType,StringType ,DoubleType\n",
    "\n",
    "from pyspark.ml import Pipeline\n",
    "from pyspark.ml.feature import MinMaxScaler\n",
    "from pyspark.ml.feature import VectorAssembler\n",
    "from pyspark.ml.classification import RandomForestClassifier\n",
    "from pyspark.ml.classification import GBTClassifier\n",
    "from pyspark.ml.classification import MultilayerPerceptronClassifier\n",
    "from pyspark.ml.evaluation import MulticlassClassificationEvaluator\n",
    "\n",
    "from sklearn.metrics import f1_score\n",
    "\n",
    "from functools import reduce\n",
    "from datetime import datetime\n",
    "import pandas as pd\n",
    "import warnings\n",
    "\n",
    "warnings.filterwarnings(\"ignore\")"
   ]
  },
  {
   "cell_type": "code",
   "execution_count": 24,
   "metadata": {},
   "outputs": [],
   "source": [
    "# create a Spark session\n",
    "spark = SparkSession \\\n",
    "    .builder \\\n",
    "    .appName(\"Spakify_Project_MKazi\") \\\n",
    "    .getOrCreate()"
   ]
  },
  {
   "cell_type": "markdown",
   "metadata": {},
   "source": [
    "# Load and Clean Dataset\n",
    "In this workspace, the mini-dataset file is `mini_sparkify_event_data.json`. Load and clean the dataset, checking for invalid or missing data - for example, records without userids or sessionids. "
   ]
  },
  {
   "cell_type": "code",
   "execution_count": 25,
   "metadata": {},
   "outputs": [],
   "source": [
    "# read JSON file into spark dataframe\n",
    "df = spark.read.json(\"mini_sparkify_event_data.json\")"
   ]
  },
  {
   "cell_type": "code",
   "execution_count": 26,
   "metadata": {},
   "outputs": [],
   "source": [
    "# create a spark SQL view \n",
    "df.createOrReplaceTempView(\"df_table\")\n"
   ]
  },
  {
   "cell_type": "code",
   "execution_count": 27,
   "metadata": {
    "scrolled": true
   },
   "outputs": [],
   "source": [
    "# removing all 'blank' users \n",
    "sql1 =  \"\"\"\n",
    "        SELECT DISTINCT * \n",
    "        FROM df_table \n",
    "        WHERE userID <> ''\n",
    "\n",
    "        \"\"\"\n",
    "\n",
    "df = spark.sql(sql1)\n"
   ]
  },
  {
   "cell_type": "code",
   "execution_count": 28,
   "metadata": {},
   "outputs": [],
   "source": [
    "# converting timestamps into date-time strings \n",
    "converttimestamp = udf(lambda ts: datetime.utcfromtimestamp(ts/1000).strftime('%Y-%m-%d %H:%M:%S'), StringType())\n",
    "\n",
    "df = df.withColumn('DateTime',converttimestamp(col('ts')))\n",
    "df = df.withColumn('RegistrationDate',converttimestamp(col('registration')))"
   ]
  },
  {
   "cell_type": "code",
   "execution_count": null,
   "metadata": {
    "scrolled": false
   },
   "outputs": [],
   "source": []
  },
  {
   "cell_type": "code",
   "execution_count": 29,
   "metadata": {},
   "outputs": [],
   "source": [
    "# dropping unnecessary columns\n",
    "columns_to_drop = ['firstName', 'lastName','method','status','auth','ts','registration']\n",
    "df = df.drop(*columns_to_drop)"
   ]
  },
  {
   "cell_type": "code",
   "execution_count": 30,
   "metadata": {},
   "outputs": [],
   "source": [
    "# remaking spark SQL view\n",
    "df.createOrReplaceTempView(\"df_table\")"
   ]
  },
  {
   "cell_type": "markdown",
   "metadata": {},
   "source": [
    "# Exploratory Data Analysis\n",
    "When you're working with the full dataset, perform EDA by loading a small subset of the data and doing basic manipulations within Spark. In this workspace, you are already provided a small subset of data you can explore.\n",
    "\n",
    "### Define Churn\n",
    "\n",
    "Once you've done some preliminary analysis, create a column `Churn` to use as the label for your model. I suggest using the `Cancellation Confirmation` events to define your churn, which happen for both paid and free users. As a bonus task, you can also look into the `Downgrade` events.\n",
    "\n",
    "### Explore Data\n",
    "Once you've defined churn, perform some exploratory data analysis to observe the behavior for users who stayed vs users who churned. You can start by exploring aggregates on these two groups of users, observing how much of a specific action they experienced per a certain time unit or number of songs played."
   ]
  },
  {
   "cell_type": "code",
   "execution_count": 54,
   "metadata": {},
   "outputs": [
    {
     "name": "stdout",
     "output_type": "stream",
     "text": [
      "root\n",
      " |-- artist: string (nullable = true)\n",
      " |-- gender: string (nullable = true)\n",
      " |-- itemInSession: long (nullable = true)\n",
      " |-- length: double (nullable = true)\n",
      " |-- level: string (nullable = true)\n",
      " |-- location: string (nullable = true)\n",
      " |-- page: string (nullable = true)\n",
      " |-- sessionId: long (nullable = true)\n",
      " |-- song: string (nullable = true)\n",
      " |-- userAgent: string (nullable = true)\n",
      " |-- userId: string (nullable = true)\n",
      " |-- DateTime: string (nullable = true)\n",
      " |-- RegistrationDate: string (nullable = true)\n",
      " |-- Churn: integer (nullable = false)\n",
      "\n"
     ]
    }
   ],
   "source": [
    "df.printSchema()"
   ]
  },
  {
   "cell_type": "code",
   "execution_count": 31,
   "metadata": {},
   "outputs": [],
   "source": [
    "# create 'Churn' column based on 'Cancellation Confirmation' event\n",
    "\n",
    "sql2 =  \"\"\"\n",
    "        select distinct \n",
    "        \n",
    "             a.*\n",
    "            ,case when b.uid is not null then 1 else 0 end as Churn\n",
    "        \n",
    "        from df_table a\n",
    "        \n",
    "        left join ( select distinct userid as uid from df_table where page = 'Cancellation Confirmation') b\n",
    "        on a.userid = b.uid\n",
    "    \n",
    "        \"\"\"\n",
    "\n",
    "df = spark.sql(sql2)\n"
   ]
  },
  {
   "cell_type": "code",
   "execution_count": 32,
   "metadata": {},
   "outputs": [],
   "source": [
    "# remaking spark SQL view\n",
    "df.createOrReplaceTempView(\"df_table\")"
   ]
  },
  {
   "cell_type": "code",
   "execution_count": 33,
   "metadata": {},
   "outputs": [
    {
     "name": "stdout",
     "output_type": "stream",
     "text": [
      "+-----+-----+---------+\n",
      "|churn|level|UserCount|\n",
      "+-----+-----+---------+\n",
      "|    0| free|      149|\n",
      "|    0| paid|      129|\n",
      "|    1| paid|       36|\n",
      "|    1| free|       46|\n",
      "+-----+-----+---------+\n",
      "\n"
     ]
    }
   ],
   "source": [
    "# churn by level\n",
    "df.groupBy(['churn','level']) \\\n",
    "  .agg(countDistinct(df.userId)) \\\n",
    "  .withColumnRenamed('count(DISTINCT userId)', 'UserCount') \\\n",
    "  .show(10)\n",
    "\n",
    "    "
   ]
  },
  {
   "cell_type": "code",
   "execution_count": 56,
   "metadata": {},
   "outputs": [
    {
     "name": "stdout",
     "output_type": "stream",
     "text": [
      "+-----+------+---------+\n",
      "|churn|gender|UserCount|\n",
      "+-----+------+---------+\n",
      "|    0|     M|       89|\n",
      "|    0|     F|       84|\n",
      "|    1|     F|       20|\n",
      "|    1|     M|       32|\n",
      "+-----+------+---------+\n",
      "\n"
     ]
    }
   ],
   "source": [
    "#  churn by gender\n",
    "sql2 =  \"\"\"\n",
    "        select distinct \n",
    "        \n",
    "         churn\n",
    "        ,gender\n",
    "        \n",
    "        ,count(distinct userid) as UserCount\n",
    "        \n",
    "\n",
    "\n",
    "        from df_table a\n",
    "        \n",
    "        where 1=1\n",
    "        \n",
    "        group by churn\n",
    "        ,gender\n",
    "        \n",
    "        order by churn\n",
    "        \n",
    "        limit 10\n",
    "        \n",
    "        \"\"\"\n",
    "\n",
    "spark.sql(sql2).show(4)"
   ]
  },
  {
   "cell_type": "code",
   "execution_count": 55,
   "metadata": {},
   "outputs": [
    {
     "name": "stdout",
     "output_type": "stream",
     "text": [
      "+-----+--------------------+\n",
      "|churn|AverageSessionLength|\n",
      "+-----+--------------------+\n",
      "|    0|  249.20913538880816|\n",
      "|    1|  248.63279564406218|\n",
      "+-----+--------------------+\n",
      "\n"
     ]
    }
   ],
   "source": [
    "#  churn by average time listened\n",
    "\n",
    "sql2 =  \"\"\"\n",
    "        select distinct \n",
    "        \n",
    "         churn\n",
    "         ,avg(length) as AverageSessionLength\n",
    "\n",
    "        \n",
    "        from df_table a\n",
    "        \n",
    "        where 1=1\n",
    "        \n",
    "        group by churn\n",
    "        \n",
    "        \n",
    "        order by churn\n",
    "        \n",
    "        limit 10\n",
    "        \n",
    "        \n",
    "        \"\"\"\n",
    "\n",
    "spark.sql(sql2).show(2)"
   ]
  },
  {
   "cell_type": "code",
   "execution_count": 36,
   "metadata": {
    "scrolled": false
   },
   "outputs": [],
   "source": [
    "# Average number of events per group \n",
    "\n",
    "\n",
    "sql2 =  \"\"\"\n",
    "\n",
    "    select distinct \n",
    "\n",
    "            page, \n",
    "            churn,\n",
    "            cast(count(page) / count(distinct userid) as int) as eventcount\n",
    "        \n",
    "        from df_table \n",
    "        \n",
    "        where 1=1\n",
    "        --and userid = 4\n",
    "        \n",
    "        group by \n",
    "            page, \n",
    "            churn\n",
    "            \n",
    "        order by page, churn     \n",
    "            \n",
    "\"\"\"\n",
    "\n",
    "# creating a pandas dataframe from the results\n",
    "event_df = spark.sql(sql2).toPandas()"
   ]
  },
  {
   "cell_type": "code",
   "execution_count": 37,
   "metadata": {
    "scrolled": true
   },
   "outputs": [],
   "source": [
    "# transforming the dataframe into a pivot table  \n",
    "pvt = event_df.pivot_table(values=['eventcount'], \n",
    "                      index='page',\n",
    "                      columns='churn',\n",
    "                      aggfunc='sum')"
   ]
  },
  {
   "cell_type": "code",
   "execution_count": 53,
   "metadata": {},
   "outputs": [
    {
     "data": {
      "image/png": "[encoded data removed]",
      "text/plain": [
       "<matplotlib.figure.Figure at 0x7f76bc678518>"
      ]
     },
     "metadata": {
      "needs_background": "light"
     },
     "output_type": "display_data"
    }
   ],
   "source": [
    "# plotting the pivot table\n",
    "pvt = pvt.div(pvt.sum(1), axis=0)\n",
    "ax = pvt.plot(kind='bar' ,stacked = False,figsize=(20,10),fontsize=20)\n",
    "ax.legend(['Loyals','Churners'], fontsize=20)\n",
    "ax.set_xlabel('Event', fontsize=20)\n",
    "ax.set_ylabel('Percent Split', fontsize=20);\n",
    "ax.plot();\n"
   ]
  },
  {
   "cell_type": "code",
   "execution_count": 39,
   "metadata": {
    "scrolled": false
   },
   "outputs": [
    {
     "name": "stdout",
     "output_type": "stream",
     "text": [
      "+-----+-----------------+\n",
      "|churn|AveDaysRegistered|\n",
      "+-----+-----------------+\n",
      "|    1|               57|\n",
      "|    0|               86|\n",
      "+-----+-----------------+\n",
      "\n"
     ]
    }
   ],
   "source": [
    "# Churn by average days registered\n",
    "\n",
    "sql2 =  \"\"\"\n",
    "\n",
    "select distinct \n",
    "    churn\n",
    "    ,cast(AVG(DaysRegistered) as int) as AveDaysRegistered\n",
    "\n",
    "from (\n",
    "    select distinct \n",
    "            userid\n",
    "            ,churn\n",
    "            ,datediff(max(DateTime) , max(RegistrationDate)) as DaysRegistered\n",
    "\n",
    "        from df_table \n",
    "        \n",
    "        group by \n",
    "            userid\n",
    "            ,churn\n",
    "\n",
    ") A\n",
    "group by churn\n",
    "\n",
    "\n",
    "\"\"\"\n",
    "\n",
    "spark.sql(sql2).show(10)"
   ]
  },
  {
   "cell_type": "code",
   "execution_count": 40,
   "metadata": {},
   "outputs": [
    {
     "name": "stdout",
     "output_type": "stream",
     "text": [
      "+-----+--------------------+\n",
      "|churn|AveArtistsListenedTo|\n",
      "+-----+--------------------+\n",
      "|    1|                 518|\n",
      "|    0|                 749|\n",
      "+-----+--------------------+\n",
      "\n"
     ]
    }
   ],
   "source": [
    "#  churn by Variety of artists\n",
    "\n",
    "sql2 =  \"\"\"\n",
    "select distinct \n",
    "    churn\n",
    "    ,cast(AVG(NumberOfArtists) as int) as AveArtistsListenedTo\n",
    "\n",
    "from (\n",
    "    select distinct \n",
    "            userid\n",
    "            ,churn\n",
    "            ,count(distinct artist) as NumberOfArtists\n",
    "\n",
    "        from df_table \n",
    "\n",
    "        group by \n",
    "            userid\n",
    "            ,churn\n",
    "\n",
    ") A\n",
    "group by churn\n",
    "\n",
    "        \"\"\"\n",
    "\n",
    "spark.sql(sql2).show(10)"
   ]
  },
  {
   "cell_type": "markdown",
   "metadata": {},
   "source": [
    "# Feature Engineering\n",
    "Once you've familiarized yourself with the data, build out the features you find promising to train your model on. To work with the full dataset, you can follow the following steps.\n",
    "- Write a script to extract the necessary features from the smaller subset of data\n",
    "- Ensure that your script is scalable, using the best practices discussed in Lesson 3\n",
    "- Try your script on the full data set, debugging your script if necessary\n",
    "\n",
    "If you are working in the classroom workspace, you can just extract features based on the small subset of data contained here. Be sure to transfer over this work to the larger dataset when you work on your Spark cluster."
   ]
  },
  {
   "cell_type": "code",
   "execution_count": 41,
   "metadata": {
    "scrolled": true
   },
   "outputs": [],
   "source": [
    "# adding features to dataset\n",
    "\n",
    "sql2 =  \"\"\"\n",
    "        select distinct \n",
    "        \n",
    "          userid\n",
    "         ,gender\n",
    "         ,churn\n",
    "         \n",
    "         ,count(distinct UserAgent) as NumberOfDevices\n",
    "         ,avg(length) as AverageSongLength\n",
    "         ,sum(length) as TotalSongLength\n",
    "         ,count(distinct artist) as TotalArtists\n",
    "         ,count(distinct song) as TotalSongs\n",
    "         ,count(distinct sessionID) as TotalSessions\n",
    "         ,sum(length) / count(distinct sessionID) as AveTimePerSession\n",
    "         ,count(distinct artist) / count(distinct sessionID) as AveArtistsPerSession\n",
    "         ,count(distinct song) / count(distinct sessionID) as AveSongsPerSession\n",
    "         ,count(distinct page) / count(distinct sessionID) as AveEventsPerSession\n",
    "         ,datediff(max(DateTime) , max(RegistrationDate)) as DaysRegistered\n",
    "         \n",
    "        from df_table a\n",
    "        \n",
    "        where 1=1\n",
    "        \n",
    "        group by           \n",
    "          userid\n",
    "         ,gender\n",
    "         ,churn\n",
    "        \n",
    "        \"\"\"\n",
    "\n",
    "df1 = spark.sql(sql2)"
   ]
  },
  {
   "cell_type": "code",
   "execution_count": 42,
   "metadata": {},
   "outputs": [],
   "source": [
    "#  adding even more features to dataset\n",
    "\n",
    "sql2 =  \"\"\"\n",
    "\n",
    "        select distinct \n",
    "             userid\n",
    "            ,sum(FreeSessions) FreeSessions\n",
    "            ,sum(PaidSessions) PaidSessions\n",
    "        from\n",
    "\n",
    "        (\n",
    "                select distinct \n",
    "                            userid\n",
    "\n",
    "                         ,(case when level = 'free' then count(distinct sessionID) else 0 end) as FreeSessions\n",
    "                         ,(case when level = 'paid' then count(distinct sessionID) else 0 end) as PaidSessions  \n",
    "\n",
    "                from df_table\n",
    "\n",
    "                group by userid, level\n",
    "        ) A\n",
    "        group by userid\n",
    "\n",
    "        \"\"\"\n",
    "\n",
    "df2 = spark.sql(sql2)"
   ]
  },
  {
   "cell_type": "code",
   "execution_count": 43,
   "metadata": {
    "scrolled": false
   },
   "outputs": [
    {
     "data": {
      "text/plain": [
       "DataFrame[userid: string, FreeSessions: bigint, PaidSessions: bigint]"
      ]
     },
     "execution_count": 43,
     "metadata": {},
     "output_type": "execute_result"
    }
   ],
   "source": [
    "# joining dataframes and then removing the component dataframes from memory \n",
    "df1 = df1.alias('df1')\n",
    "df2 = df2.alias('df2')\n",
    "\n",
    "df3 = df1.join(df2, df1.userid == df2.userid).select('df1.*','df2.FreeSessions','df2.PaidSessions')\n",
    "\n",
    "df1.unpersist() \n",
    "df2.unpersist() "
   ]
  },
  {
   "cell_type": "code",
   "execution_count": 44,
   "metadata": {},
   "outputs": [],
   "source": [
    "# extracting events from original dataset to add as features \n",
    "sql = \"\"\"\n",
    "\n",
    "    select distinct\n",
    "              userid as uid\n",
    "             ,page\n",
    "             ,count(sessionid) as EventCount\n",
    "        \n",
    "    from df_table\n",
    "    where page not in ('Cancellation Confirmation','Cancel')\n",
    "    group by \n",
    "         userid\n",
    "        ,page\n",
    "\n",
    "\"\"\"\n",
    "\n",
    "df4 = spark.sql(sql)"
   ]
  },
  {
   "cell_type": "code",
   "execution_count": 45,
   "metadata": {},
   "outputs": [],
   "source": [
    "# creating a pivot from the events dataframe above \n",
    "df4 = df4.groupBy(\"uid\") \\\n",
    "          .pivot(\"page\") \\\n",
    "          .agg(Fsum('EventCount'))"
   ]
  },
  {
   "cell_type": "code",
   "execution_count": 46,
   "metadata": {},
   "outputs": [
    {
     "data": {
      "text/plain": [
       "DataFrame[uid: string, About: bigint, Add Friend: bigint, Add to Playlist: bigint, Downgrade: bigint, Error: bigint, Help: bigint, Home: bigint, Logout: bigint, NextSong: bigint, Roll Advert: bigint, Save Settings: bigint, Settings: bigint, Submit Downgrade: bigint, Submit Upgrade: bigint, Thumbs Down: bigint, Thumbs Up: bigint, Upgrade: bigint]"
      ]
     },
     "execution_count": 46,
     "metadata": {},
     "output_type": "execute_result"
    }
   ],
   "source": [
    "# joining dataframes and then removing the component dataframes from memory \n",
    "df3 = df3.alias('df3')\n",
    "df4 = df4.alias('df4')\n",
    "\n",
    "df5 = df3.join(df4, df3.userid == df4.uid).select('df3.*','df4.*')\n",
    "\n",
    "df3.unpersist() \n",
    "df4.unpersist() "
   ]
  },
  {
   "cell_type": "code",
   "execution_count": 47,
   "metadata": {},
   "outputs": [],
   "source": [
    "#  splitting the categorical gender column into two\n",
    "Male = udf(lambda x: 1 if x == 'M' else 0, IntegerType())\n",
    "Female = udf(lambda x: 1 if x == 'F' else 0, IntegerType())\n",
    "\n",
    "df5 = df5.withColumn('Male',Male(col('gender')) )\n",
    "df5 = df5.withColumn('Female',Female(col('gender')) )\n"
   ]
  },
  {
   "cell_type": "code",
   "execution_count": 48,
   "metadata": {},
   "outputs": [],
   "source": [
    "# dropping unnecessary columns\n",
    "columns_to_drop = ['uid','gender']\n",
    "df5 = df5.drop(*columns_to_drop)"
   ]
  },
  {
   "cell_type": "code",
   "execution_count": 49,
   "metadata": {},
   "outputs": [],
   "source": [
    "# creating a dataframe copy to work with\n",
    "df6 = df5"
   ]
  },
  {
   "cell_type": "code",
   "execution_count": 50,
   "metadata": {},
   "outputs": [],
   "source": [
    "# replacing NULL values with '0' - vectors will not work with NULLs \n",
    "df6 = df6.na.fill(0)"
   ]
  },
  {
   "cell_type": "code",
   "execution_count": 51,
   "metadata": {
    "scrolled": false
   },
   "outputs": [],
   "source": [
    "# replacing spaces in column names\n",
    "oldColumns = df5.schema.names\n",
    "newColumns = [x.replace(' ','') for x in oldColumns]\n",
    "\n",
    "df6 = reduce(lambda df6, idx: df6.withColumnRenamed(oldColumns[idx], newColumns[idx]), range(len(oldColumns)), df6)\n",
    "\n"
   ]
  },
  {
   "cell_type": "code",
   "execution_count": 52,
   "metadata": {},
   "outputs": [],
   "source": [
    "# setting the columns needed for scaling \n",
    "columns_to_scale = df6.schema.names[2:]"
   ]
  },
  {
   "cell_type": "code",
   "execution_count": null,
   "metadata": {},
   "outputs": [],
   "source": [
    "# converting column type from vector to double type\n",
    "unlist = udf(lambda x: round(float(list(x)[0]),3), DoubleType())\n",
    "\n",
    "# iterating over columns to be scaled\n",
    "for i in columns_to_scale:\n",
    "\n",
    "    # VectorAssembler Transformation - Converting column to vector type\n",
    "    assembler = VectorAssembler(inputCols=[i],outputCol=i+\"_Vect\")\n",
    "\n",
    "    # MinMaxScaler Transformation\n",
    "    scaler = MinMaxScaler(inputCol=i+\"_Vect\", outputCol=i+\"_Scaled\")\n",
    "\n",
    "    # Pipeline of VectorAssembler and MinMaxScaler\n",
    "    pipeline = Pipeline(stages=[assembler, scaler])\n",
    "\n",
    "    # Fitting pipeline on dataframe\n",
    "    df6 = pipeline.fit(df6).transform(df6).withColumn(i+\"_Scaled\", unlist(i+\"_Scaled\")).drop(i+\"_Vect\")\n"
   ]
  },
  {
   "cell_type": "code",
   "execution_count": null,
   "metadata": {},
   "outputs": [],
   "source": [
    "# saving results as a csv file to prevent redo-ing the scaling\n",
    "# df6.toPandas().to_csv('ScaledData.csv')"
   ]
  },
  {
   "cell_type": "code",
   "execution_count": null,
   "metadata": {
    "scrolled": true
   },
   "outputs": [],
   "source": [
    "df6.schema.names"
   ]
  },
  {
   "cell_type": "code",
   "execution_count": null,
   "metadata": {},
   "outputs": [],
   "source": [
    "# dropping unnecessary columns\n",
    "columns_to_drop = ['userid',\n",
    "                     'NumberOfDevices',\n",
    "                     'AverageSongLength',\n",
    "                     'TotalSongLength',\n",
    "                     'TotalArtists',\n",
    "                     'TotalSongs',\n",
    "                     'TotalSessions',\n",
    "                     'AveTimePerSession',\n",
    "                     'AveArtistsPerSession',\n",
    "                     'AveSongsPerSession',\n",
    "                     'AveEventsPerSession',\n",
    "                     'DaysRegistered',\n",
    "                     'FreeSessions',\n",
    "                     'PaidSessions',\n",
    "                     'About',\n",
    "                     'AddFriend',\n",
    "                     'AddtoPlaylist',\n",
    "                     'Downgrade',\n",
    "                     'Error',\n",
    "                     'Help',\n",
    "                     'Home',\n",
    "                     'Logout',\n",
    "                     'NextSong',\n",
    "                     'RollAdvert',\n",
    "                     'SaveSettings',\n",
    "                     'Settings',\n",
    "                     'SubmitDowngrade',\n",
    "                     'SubmitUpgrade',\n",
    "                     'ThumbsDown',\n",
    "                     'ThumbsUp',\n",
    "                     'Upgrade',\n",
    "                     'Male',\n",
    "                     'Female']\n",
    "\n",
    "df7 = df6.drop(*columns_to_drop)"
   ]
  },
  {
   "cell_type": "code",
   "execution_count": null,
   "metadata": {},
   "outputs": [],
   "source": [
    "# # dropping unnecessary columns\n",
    "# columns_to_drop = ['userid']\n",
    "\n",
    "# df7 = df6.drop(*columns_to_drop)"
   ]
  },
  {
   "cell_type": "markdown",
   "metadata": {},
   "source": [
    "# Modeling\n",
    "Split the full dataset into train, test, and validation sets. Test out several of the machine learning methods you learned. Evaluate the accuracy of the various models, tuning parameters as necessary. Determine your winning model based on test accuracy and report results on the validation set. Since the churned users are a fairly small subset, I suggest using F1 score as the metric to optimize."
   ]
  },
  {
   "cell_type": "code",
   "execution_count": 3,
   "metadata": {},
   "outputs": [],
   "source": [
    "# read JSON file into spark dataframe\n",
    "df7 = spark.read.csv(\"ScaledData.csv\",inferSchema =True,header=True)\n",
    "\n",
    "# here we omit the userid, churn, and non-scaled columns\n",
    "feature_columns = df7.columns[35:]\n",
    "\n",
    "assembler = VectorAssembler(inputCols=feature_columns,outputCol=\"features\")\n",
    "\n",
    "\n",
    "df8 = assembler.transform(df7)\n",
    "\n",
    "df9 = df8[['churn','features']]\n",
    "df9 = df9.withColumnRenamed('churn','label')"
   ]
  },
  {
   "cell_type": "code",
   "execution_count": 4,
   "metadata": {},
   "outputs": [],
   "source": [
    "# split our data into training, testing, and validation sets\n",
    "\n",
    "train, rest = df9.randomSplit([0.8, 0.2], seed=42)\n",
    "test, validation = rest.randomSplit([0.5, 0.5], seed=42)"
   ]
  },
  {
   "cell_type": "markdown",
   "metadata": {},
   "source": [
    "## Random Forest"
   ]
  },
  {
   "cell_type": "code",
   "execution_count": 5,
   "metadata": {},
   "outputs": [
    {
     "name": "stdout",
     "output_type": "stream",
     "text": [
      "+-----+--------------------+--------------------+--------------------+----------+\n",
      "|label|            features|       rawPrediction|         probability|prediction|\n",
      "+-----+--------------------+--------------------+--------------------+----------+\n",
      "|    0|[0.5,0.247,0.016,...|[12.1725908456934...|[0.60862954228467...|       0.0|\n",
      "|    0|[0.5,0.508,0.026,...|[13.7281551246445...|[0.68640775623222...|       0.0|\n",
      "|    0|[0.5,0.508,0.473,...|[19.3969396652732...|[0.96984698326366...|       0.0|\n",
      "|    0|[0.5,0.511,0.043,...|[15.0569252364716...|[0.75284626182358...|       0.0|\n",
      "|    0|[0.5,0.531,0.153,...|[18.8851235692195...|[0.94425617846097...|       0.0|\n",
      "|    0|[0.5,0.544,0.334,...|[18.4474493965058...|[0.92237246982529...|       0.0|\n",
      "|    0|[0.5,0.553,0.246,...|[16.2177058059323...|[0.81088529029661...|       0.0|\n",
      "|    0|[0.5,0.567,0.37,0...|[14.4593538395637...|[0.72296769197818...|       0.0|\n",
      "|    0|[0.5,0.597,0.204,...|[16.7687205901164...|[0.83843602950582...|       0.0|\n",
      "|    0|[0.5,0.623,0.082,...|[17.1921334198964...|[0.85960667099482...|       0.0|\n",
      "|    0|[0.5,0.633,0.214,...|[15.1399026022710...|[0.75699513011355...|       0.0|\n",
      "|    0|[0.5,0.675,0.18,0...|[14.8982896990452...|[0.74491448495226...|       0.0|\n",
      "|    0|[0.5,0.68,0.025,0...|[15.3923946233786...|[0.76961973116893...|       0.0|\n",
      "|    1|(32,[0,1,2,3,4,5,...|[15.5001728110599...|[0.77500864055299...|       0.0|\n",
      "|    1|(32,[0,1,2,3,4,6,...|[15.0296731229174...|[0.75148365614587...|       0.0|\n",
      "|    1|(32,[0,1,2,3,4,6,...|[12.0748015873015...|[0.60374007936507...|       0.0|\n",
      "|    1|[0.5,0.596,0.062,...|[15.0642240351727...|[0.75321120175863...|       0.0|\n",
      "+-----+--------------------+--------------------+--------------------+----------+\n",
      "\n"
     ]
    },
    {
     "data": {
      "text/plain": [
       "0.0"
      ]
     },
     "execution_count": 5,
     "metadata": {},
     "output_type": "execute_result"
    }
   ],
   "source": [
    "# create an initial RandomForest model.\n",
    "rf = RandomForestClassifier(labelCol=\"label\", featuresCol=\"features\")\n",
    "\n",
    "# train model with Training Data\n",
    "rfModel = rf.fit(train)\n",
    "\n",
    "# make predictions on test data using the Transformer.transform() method.\n",
    "predictions = rfModel.transform(test)\n",
    "\n",
    "# show predictions\n",
    "predictions.show()\n",
    "\n",
    "# calculate the f1 score\n",
    "f1_score(predictions.select('label').toPandas().label,predictions.select('prediction').toPandas().prediction)"
   ]
  },
  {
   "cell_type": "markdown",
   "metadata": {},
   "source": [
    "We can conclude that a Random Forest model is not ideal in this scenario."
   ]
  },
  {
   "cell_type": "markdown",
   "metadata": {},
   "source": [
    "## Gradient Boost Classifier"
   ]
  },
  {
   "cell_type": "code",
   "execution_count": 17,
   "metadata": {},
   "outputs": [
    {
     "name": "stdout",
     "output_type": "stream",
     "text": [
      "+-----+--------------------+--------------------+--------------------+----------+\n",
      "|label|            features|       rawPrediction|         probability|prediction|\n",
      "+-----+--------------------+--------------------+--------------------+----------+\n",
      "|    0|[0.5,0.247,0.016,...|[0.68132910678267...|[0.79619138742330...|       0.0|\n",
      "|    0|[0.5,0.508,0.026,...|[0.34138436790893...|[0.66435637013592...|       0.0|\n",
      "|    0|[0.5,0.508,0.473,...|[1.26628205766399...|[0.92639338830662...|       0.0|\n",
      "|    0|[0.5,0.511,0.043,...|[0.58227113933548...|[0.76215709056316...|       0.0|\n",
      "|    0|[0.5,0.531,0.153,...|[1.39760439050238...|[0.94241636585584...|       0.0|\n",
      "|    0|[0.5,0.544,0.334,...|[1.34408301063248...|[0.93632472596567...|       0.0|\n",
      "|    0|[0.5,0.553,0.246,...|[1.25025813261783...|[0.92417800416645...|       0.0|\n",
      "|    0|[0.5,0.567,0.37,0...|[0.64041716492939...|[0.78259176435503...|       0.0|\n",
      "|    0|[0.5,0.597,0.204,...|[0.86235420294667...|[0.84873431516979...|       0.0|\n",
      "|    0|[0.5,0.623,0.082,...|[1.16308783421221...|[0.91102181926104...|       0.0|\n",
      "|    0|[0.5,0.633,0.214,...|[1.07797561955545...|[0.89622358960844...|       0.0|\n",
      "|    0|[0.5,0.675,0.18,0...|[0.85068875457439...|[0.84571455990675...|       0.0|\n",
      "|    0|[0.5,0.68,0.025,0...|[0.32369530523402...|[0.65642220202848...|       0.0|\n",
      "|    1|(32,[0,1,2,3,4,5,...|[0.09983590260151...|[0.54975276233326...|       0.0|\n",
      "|    1|(32,[0,1,2,3,4,6,...|[0.15421744580989...|[0.57650319003199...|       0.0|\n",
      "|    1|(32,[0,1,2,3,4,6,...|[-0.7777054744458...|[0.17430613249624...|       1.0|\n",
      "|    1|[0.5,0.596,0.062,...|[0.94243196610867...|[0.86816880947412...|       0.0|\n",
      "+-----+--------------------+--------------------+--------------------+----------+\n",
      "\n"
     ]
    },
    {
     "data": {
      "text/plain": [
       "0.40000000000000002"
      ]
     },
     "execution_count": 17,
     "metadata": {},
     "output_type": "execute_result"
    }
   ],
   "source": [
    "# train model\n",
    "gbt = GBTClassifier(maxIter=20, \n",
    "                    maxDepth=3, \n",
    "                    stepSize=0.1,\n",
    "                    labelCol=\"label\", \n",
    "                    seed=42)\n",
    "\n",
    "model = gbt.fit(train)\n",
    "\n",
    "# get predictions\n",
    "predictions = model.transform(test)\n",
    "\n",
    "# show predictions\n",
    "predictions.show()\n",
    "\n",
    "# calculate the f1 score\n",
    "f1_score(predictions.select('label').toPandas().label,predictions.select('prediction').toPandas().prediction)"
   ]
  },
  {
   "cell_type": "markdown",
   "metadata": {},
   "source": [
    "The above results are quite promising for a Gradient Boosted model."
   ]
  },
  {
   "cell_type": "markdown",
   "metadata": {},
   "source": [
    "## MultiLayer Perceptron"
   ]
  },
  {
   "cell_type": "code",
   "execution_count": 20,
   "metadata": {},
   "outputs": [
    {
     "name": "stdout",
     "output_type": "stream",
     "text": [
      "+-----+--------------------+--------------------+--------------------+----------+\n",
      "|label|            features|       rawPrediction|         probability|prediction|\n",
      "+-----+--------------------+--------------------+--------------------+----------+\n",
      "|    0|[0.5,0.247,0.016,...|[-0.1917144206703...|[0.78441828712558...|       0.0|\n",
      "|    0|[0.5,0.508,0.026,...|[-0.1915941136641...|[0.78445973917430...|       0.0|\n",
      "|    0|[0.5,0.508,0.473,...|[0.17739719816426...|[0.88808807092479...|       0.0|\n",
      "|    0|[0.5,0.511,0.043,...|[-0.1913998823484...|[0.78452670444617...|       0.0|\n",
      "|    0|[0.5,0.531,0.153,...|[-0.1930438248476...|[0.78394926570441...|       0.0|\n",
      "|    0|[0.5,0.544,0.334,...|[0.49464243021000...|[0.93949568009943...|       0.0|\n",
      "|    0|[0.5,0.553,0.246,...|[0.53016472698392...|[0.94356936119110...|       0.0|\n",
      "|    0|[0.5,0.567,0.37,0...|[-6.8111396143552...|[3.06082199995687...|       1.0|\n",
      "|    0|[0.5,0.597,0.204,...|[0.35317009932601...|[0.92003445073937...|       0.0|\n",
      "|    0|[0.5,0.623,0.082,...|[-0.1917296511226...|[0.78370696531940...|       0.0|\n",
      "|    0|[0.5,0.633,0.214,...|[0.83804694534732...|[0.96975734950898...|       0.0|\n",
      "|    0|[0.5,0.675,0.18,0...|[-5.9454821900288...|[9.43345195849170...|       1.0|\n",
      "|    0|[0.5,0.68,0.025,0...|[0.58129358421958...|[0.94905560000099...|       0.0|\n",
      "|    1|(32,[0,1,2,3,4,5,...|[-1.8834251953785...|[0.05828831995830...|       1.0|\n",
      "|    1|(32,[0,1,2,3,4,6,...|[0.14786657877755...|[0.88048524752643...|       0.0|\n",
      "|    1|(32,[0,1,2,3,4,6,...|[3.29275122837994...|[0.99979390934109...|       0.0|\n",
      "|    1|[0.5,0.596,0.062,...|[-0.3096649952170...|[0.72895758839957...|       0.0|\n",
      "+-----+--------------------+--------------------+--------------------+----------+\n",
      "\n"
     ]
    },
    {
     "data": {
      "text/plain": [
       "0.28571428571428575"
      ]
     },
     "execution_count": 20,
     "metadata": {},
     "output_type": "execute_result"
    }
   ],
   "source": [
    "\n",
    "# specify layers for the neural network:\n",
    "# input layer of size 32 (features), two intermediate of size 5 and 4\n",
    "# and output of size 2 (classes)\n",
    "layers = [32, 5, 4, 2]\n",
    "\n",
    "# create the trainer and set its parameters\n",
    "trainer = MultilayerPerceptronClassifier(maxIter=50, layers=layers, blockSize=128, seed=42)\n",
    "\n",
    "# train the model\n",
    "model = trainer.fit(train)\n",
    "\n",
    "# compute accuracy on the test set\n",
    "predictions = model.transform(test)\n",
    "\n",
    "# show predictions\n",
    "predictions.show()\n",
    "\n",
    "# calculate the f1 score\n",
    "f1_score(predictions.select('label').toPandas().label,predictions.select('prediction').toPandas().prediction)"
   ]
  },
  {
   "cell_type": "markdown",
   "metadata": {},
   "source": [
    "The Perceptron does outperform the Random Forest, but does not perform better than the Grandient Boosted model."
   ]
  },
  {
   "cell_type": "markdown",
   "metadata": {},
   "source": [
    "## Performance Tuning"
   ]
  },
  {
   "cell_type": "markdown",
   "metadata": {},
   "source": [
    "It would appear that the GBT model has the best F1 score and this is quite evident from the predictions.\n",
    "<br>\n",
    "Other models may outperform the GBT with a higher sample size however.\n",
    "\n",
    "We can now attempt to tune the model for better performance. We will do this witha  combination of parameter grid searching and cross validation.\n",
    "\n",
    "<br>\n",
    "Since we do not have a lot of processing power or time, we'll keep the parameter grid small, and the number of crossvalidations low. "
   ]
  },
  {
   "cell_type": "code",
   "execution_count": 21,
   "metadata": {
    "scrolled": false
   },
   "outputs": [
    {
     "data": {
      "text/plain": [
       "0.66666666666666663"
      ]
     },
     "execution_count": 21,
     "metadata": {},
     "output_type": "execute_result"
    }
   ],
   "source": [
    "#  setup parameter grid\n",
    "from pyspark.ml.tuning import ParamGridBuilder, CrossValidator\n",
    "from pyspark.ml.evaluation import BinaryClassificationEvaluator\n",
    "\n",
    "gbt = GBTClassifier(maxDepth=3, \n",
    "                    stepSize=0.1,\n",
    "                    labelCol=\"label\", \n",
    "                    seed=42)\n",
    "\n",
    "paramGrid = (ParamGridBuilder()\n",
    "             .addGrid(gbt.maxIter, [10, 50, 100])\n",
    "             .build())\n",
    "\n",
    "evaluator = BinaryClassificationEvaluator()\n",
    "\n",
    "cv = CrossValidator(estimator=gbt, estimatorParamMaps=paramGrid, evaluator=evaluator, numFolds=5)\n",
    "\n",
    "# train model on multiple parameters \n",
    "cvModel = cv.fit(train)\n",
    "\n",
    "predictions = cvModel.transform(test)\n",
    "\n",
    "# calculate the f1 score\n",
    "f1_score(predictions.select('label').toPandas().label,predictions.select('prediction').toPandas().prediction)"
   ]
  },
  {
   "cell_type": "markdown",
   "metadata": {},
   "source": [
    "With the above we can see that we've possibly reached a limit in what we can extract from this small dataset, and limited computing power. \n",
    "<br>\n",
    "\n",
    "Let's apply the best model to our validation set.\n"
   ]
  },
  {
   "cell_type": "code",
   "execution_count": 22,
   "metadata": {},
   "outputs": [
    {
     "data": {
      "text/plain": [
       "0.57142857142857151"
      ]
     },
     "execution_count": 22,
     "metadata": {},
     "output_type": "execute_result"
    }
   ],
   "source": [
    "# find the best parameters from the cross validation and parameter grid \n",
    "bestModel = cvModel.bestModel\n",
    "\n",
    "# make predictions on the validation set\n",
    "finalPredictions = bestModel.transform(validation)\n",
    "\n",
    "# calculate the f1 score\n",
    "f1_score(finalPredictions.select('label').toPandas().label,finalPredictions.select('prediction').toPandas().prediction)\n"
   ]
  },
  {
   "cell_type": "markdown",
   "metadata": {},
   "source": [
    "We do see a roughly 10% drop in our f1 score. \n",
    "\n",
    "While not ideal, this is an acceptable level for our purposes. "
   ]
  },
  {
   "cell_type": "code",
   "execution_count": null,
   "metadata": {},
   "outputs": [],
   "source": []
  },
  {
   "cell_type": "code",
   "execution_count": null,
   "metadata": {},
   "outputs": [],
   "source": []
  },
  {
   "cell_type": "code",
   "execution_count": null,
   "metadata": {},
   "outputs": [],
   "source": []
  },
  {
   "cell_type": "markdown",
   "metadata": {},
   "source": [
    "# Final Steps\n",
    "Clean up your code, adding comments and renaming variables to make the code easier to read and maintain. Refer to the Spark Project Overview page and Data Scientist Capstone Project Rubric to make sure you are including all components of the capstone project and meet all expectations. Remember, this includes thorough documentation in a README file in a Github repository, as well as a web app or blog post."
   ]
  },
  {
   "cell_type": "code",
   "execution_count": null,
   "metadata": {},
   "outputs": [],
   "source": []
  }
 ],
 "metadata": {
  "kernelspec": {
   "display_name": "Python 3",
   "language": "python",
   "name": "python3"
  },
  "language_info": {
   "codemirror_mode": {
    "name": "ipython",
    "version": 3
   },
   "file_extension": ".py",
   "mimetype": "text/x-python",
   "name": "python",
   "nbconvert_exporter": "python",
   "pygments_lexer": "ipython3",
   "version": "3.6.3"
  }
 },
 "nbformat": 4,
 "nbformat_minor": 2
}
